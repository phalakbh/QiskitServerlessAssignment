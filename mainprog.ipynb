{
 "cells": [
  {
   "cell_type": "markdown",
   "metadata": {},
   "source": [
    "# Qiskit Serverless Program Uploader\n",
    "\n",
    "This notebook uploads a program that generates random quantum circuits and transpiles them using Qiskit Serverless."
   ]
  },
  {
   "cell_type": "code",
   "execution_count": 35,
   "metadata": {},
   "outputs": [
    {
     "name": "stdout",
     "output_type": "stream",
     "text": [
      "Requirement already satisfied: qiskit-serverless in c:\\users\\phala\\anaconda3\\lib\\site-packages (0.18.0)\n",
      "Requirement already satisfied: ray<2.35.0,>=2.30.0 in c:\\users\\phala\\anaconda3\\lib\\site-packages (from ray[data,default]<2.35.0,>=2.30.0->qiskit-serverless) (2.34.0)\n",
      "Requirement already satisfied: requests<3,>=2.32.2 in c:\\users\\phala\\anaconda3\\lib\\site-packages (from qiskit-serverless) (2.32.3)\n",
      "Requirement already satisfied: importlib-metadata<9,>=5.2.0 in c:\\users\\phala\\anaconda3\\lib\\site-packages (from qiskit-serverless) (7.0.1)\n",
      "Requirement already satisfied: qiskit>=1.0.2 in c:\\users\\phala\\anaconda3\\lib\\site-packages (from qiskit-serverless) (1.2.4)\n",
      "Requirement already satisfied: qiskit-ibm-runtime>=0.29.0 in c:\\users\\phala\\anaconda3\\lib\\site-packages (from qiskit-serverless) (0.33.2)\n",
      "Requirement already satisfied: cloudpickle==2.2.1 in c:\\users\\phala\\anaconda3\\lib\\site-packages (from qiskit-serverless) (2.2.1)\n",
      "Requirement already satisfied: tqdm<5,>=4.66.3 in c:\\users\\phala\\anaconda3\\lib\\site-packages (from qiskit-serverless) (4.67.0)\n",
      "Requirement already satisfied: opentelemetry-api<2,>=1.18.0 in c:\\users\\phala\\anaconda3\\lib\\site-packages (from qiskit-serverless) (1.28.1)\n",
      "Requirement already satisfied: opentelemetry-sdk<2,>=1.18.0 in c:\\users\\phala\\anaconda3\\lib\\site-packages (from qiskit-serverless) (1.28.1)\n",
      "Requirement already satisfied: opentelemetry-exporter-otlp-proto-grpc<2,>=1.18.0 in c:\\users\\phala\\anaconda3\\lib\\site-packages (from qiskit-serverless) (1.28.1)\n",
      "Requirement already satisfied: s3fs>=2023.6.0 in c:\\users\\phala\\anaconda3\\lib\\site-packages (from qiskit-serverless) (2023.10.0)\n",
      "Requirement already satisfied: opentelemetry-instrumentation-requests>=0.40b0 in c:\\users\\phala\\anaconda3\\lib\\site-packages (from qiskit-serverless) (0.49b1)\n",
      "Requirement already satisfied: ipywidgets<9,>=8.1.2 in c:\\users\\phala\\anaconda3\\lib\\site-packages (from qiskit-serverless) (8.1.5)\n",
      "Requirement already satisfied: ipython<9,>=8.10.0 in c:\\users\\phala\\anaconda3\\lib\\site-packages (from qiskit-serverless) (8.20.0)\n",
      "Requirement already satisfied: numpy<2,>=1.26.4 in c:\\users\\phala\\anaconda3\\lib\\site-packages (from qiskit-serverless) (1.26.4)\n",
      "Requirement already satisfied: aiohttp<4,>=3.10.0 in c:\\users\\phala\\anaconda3\\lib\\site-packages (from qiskit-serverless) (3.10.10)\n",
      "Requirement already satisfied: zipp==3.19.1 in c:\\users\\phala\\anaconda3\\lib\\site-packages (from qiskit-serverless) (3.19.1)\n",
      "Requirement already satisfied: aiohappyeyeballs>=2.3.0 in c:\\users\\phala\\anaconda3\\lib\\site-packages (from aiohttp<4,>=3.10.0->qiskit-serverless) (2.4.3)\n",
      "Requirement already satisfied: aiosignal>=1.1.2 in c:\\users\\phala\\anaconda3\\lib\\site-packages (from aiohttp<4,>=3.10.0->qiskit-serverless) (1.2.0)\n",
      "Requirement already satisfied: attrs>=17.3.0 in c:\\users\\phala\\anaconda3\\lib\\site-packages (from aiohttp<4,>=3.10.0->qiskit-serverless) (23.1.0)\n",
      "Requirement already satisfied: frozenlist>=1.1.1 in c:\\users\\phala\\anaconda3\\lib\\site-packages (from aiohttp<4,>=3.10.0->qiskit-serverless) (1.4.0)\n",
      "Requirement already satisfied: multidict<7.0,>=4.5 in c:\\users\\phala\\anaconda3\\lib\\site-packages (from aiohttp<4,>=3.10.0->qiskit-serverless) (6.0.4)\n",
      "Requirement already satisfied: yarl<2.0,>=1.12.0 in c:\\users\\phala\\anaconda3\\lib\\site-packages (from aiohttp<4,>=3.10.0->qiskit-serverless) (1.17.1)\n",
      "Requirement already satisfied: decorator in c:\\users\\phala\\anaconda3\\lib\\site-packages (from ipython<9,>=8.10.0->qiskit-serverless) (5.1.1)\n",
      "Requirement already satisfied: jedi>=0.16 in c:\\users\\phala\\anaconda3\\lib\\site-packages (from ipython<9,>=8.10.0->qiskit-serverless) (0.18.1)\n",
      "Requirement already satisfied: matplotlib-inline in c:\\users\\phala\\anaconda3\\lib\\site-packages (from ipython<9,>=8.10.0->qiskit-serverless) (0.1.6)\n",
      "Requirement already satisfied: prompt-toolkit<3.1.0,>=3.0.41 in c:\\users\\phala\\anaconda3\\lib\\site-packages (from ipython<9,>=8.10.0->qiskit-serverless) (3.0.43)\n",
      "Requirement already satisfied: pygments>=2.4.0 in c:\\users\\phala\\anaconda3\\lib\\site-packages (from ipython<9,>=8.10.0->qiskit-serverless) (2.15.1)\n",
      "Requirement already satisfied: stack-data in c:\\users\\phala\\anaconda3\\lib\\site-packages (from ipython<9,>=8.10.0->qiskit-serverless) (0.2.0)\n",
      "Requirement already satisfied: traitlets>=5 in c:\\users\\phala\\anaconda3\\lib\\site-packages (from ipython<9,>=8.10.0->qiskit-serverless) (5.7.1)\n",
      "Requirement already satisfied: colorama in c:\\users\\phala\\anaconda3\\lib\\site-packages (from ipython<9,>=8.10.0->qiskit-serverless) (0.4.6)\n",
      "Requirement already satisfied: comm>=0.1.3 in c:\\users\\phala\\anaconda3\\lib\\site-packages (from ipywidgets<9,>=8.1.2->qiskit-serverless) (0.2.2)\n",
      "Requirement already satisfied: widgetsnbextension~=4.0.12 in c:\\users\\phala\\anaconda3\\lib\\site-packages (from ipywidgets<9,>=8.1.2->qiskit-serverless) (4.0.13)\n",
      "Requirement already satisfied: jupyterlab-widgets~=3.0.12 in c:\\users\\phala\\anaconda3\\lib\\site-packages (from ipywidgets<9,>=8.1.2->qiskit-serverless) (3.0.13)\n",
      "Requirement already satisfied: deprecated>=1.2.6 in c:\\users\\phala\\anaconda3\\lib\\site-packages (from opentelemetry-api<2,>=1.18.0->qiskit-serverless) (1.2.14)\n",
      "Requirement already satisfied: googleapis-common-protos~=1.52 in c:\\users\\phala\\anaconda3\\lib\\site-packages (from opentelemetry-exporter-otlp-proto-grpc<2,>=1.18.0->qiskit-serverless) (1.63.1)\n",
      "Requirement already satisfied: grpcio<2.0.0,>=1.63.2 in c:\\users\\phala\\anaconda3\\lib\\site-packages (from opentelemetry-exporter-otlp-proto-grpc<2,>=1.18.0->qiskit-serverless) (1.64.1)\n",
      "Requirement already satisfied: opentelemetry-exporter-otlp-proto-common==1.28.1 in c:\\users\\phala\\anaconda3\\lib\\site-packages (from opentelemetry-exporter-otlp-proto-grpc<2,>=1.18.0->qiskit-serverless) (1.28.1)\n",
      "Requirement already satisfied: opentelemetry-proto==1.28.1 in c:\\users\\phala\\anaconda3\\lib\\site-packages (from opentelemetry-exporter-otlp-proto-grpc<2,>=1.18.0->qiskit-serverless) (1.28.1)\n",
      "Requirement already satisfied: protobuf<6.0,>=5.0 in c:\\users\\phala\\anaconda3\\lib\\site-packages (from opentelemetry-proto==1.28.1->opentelemetry-exporter-otlp-proto-grpc<2,>=1.18.0->qiskit-serverless) (5.28.3)\n",
      "Requirement already satisfied: opentelemetry-instrumentation==0.49b1 in c:\\users\\phala\\anaconda3\\lib\\site-packages (from opentelemetry-instrumentation-requests>=0.40b0->qiskit-serverless) (0.49b1)\n",
      "Requirement already satisfied: opentelemetry-semantic-conventions==0.49b1 in c:\\users\\phala\\anaconda3\\lib\\site-packages (from opentelemetry-instrumentation-requests>=0.40b0->qiskit-serverless) (0.49b1)\n",
      "Requirement already satisfied: opentelemetry-util-http==0.49b1 in c:\\users\\phala\\anaconda3\\lib\\site-packages (from opentelemetry-instrumentation-requests>=0.40b0->qiskit-serverless) (0.49b1)\n",
      "Requirement already satisfied: packaging>=18.0 in c:\\users\\phala\\anaconda3\\lib\\site-packages (from opentelemetry-instrumentation==0.49b1->opentelemetry-instrumentation-requests>=0.40b0->qiskit-serverless) (22.0)\n",
      "Requirement already satisfied: wrapt<2.0.0,>=1.0.0 in c:\\users\\phala\\anaconda3\\lib\\site-packages (from opentelemetry-instrumentation==0.49b1->opentelemetry-instrumentation-requests>=0.40b0->qiskit-serverless) (1.14.1)\n",
      "Requirement already satisfied: typing-extensions>=3.7.4 in c:\\users\\phala\\anaconda3\\lib\\site-packages (from opentelemetry-sdk<2,>=1.18.0->qiskit-serverless) (4.9.0)\n",
      "Requirement already satisfied: rustworkx>=0.15.0 in c:\\users\\phala\\anaconda3\\lib\\site-packages (from qiskit>=1.0.2->qiskit-serverless) (0.15.1)\n",
      "Requirement already satisfied: scipy>=1.5 in c:\\users\\phala\\anaconda3\\lib\\site-packages (from qiskit>=1.0.2->qiskit-serverless) (1.11.4)\n",
      "Requirement already satisfied: sympy>=1.3 in c:\\users\\phala\\anaconda3\\lib\\site-packages (from qiskit>=1.0.2->qiskit-serverless) (1.10.1)\n",
      "Requirement already satisfied: dill>=0.3 in c:\\users\\phala\\anaconda3\\lib\\site-packages (from qiskit>=1.0.2->qiskit-serverless) (0.3.7)\n",
      "Requirement already satisfied: python-dateutil>=2.8.0 in c:\\users\\phala\\anaconda3\\lib\\site-packages (from qiskit>=1.0.2->qiskit-serverless) (2.8.2)\n",
      "Requirement already satisfied: stevedore>=3.0.0 in c:\\users\\phala\\anaconda3\\lib\\site-packages (from qiskit>=1.0.2->qiskit-serverless) (5.2.0)\n",
      "Requirement already satisfied: symengine<0.14,>=0.11 in c:\\users\\phala\\anaconda3\\lib\\site-packages (from qiskit>=1.0.2->qiskit-serverless) (0.11.0)\n",
      "Requirement already satisfied: requests-ntlm>=1.1.0 in c:\\users\\phala\\anaconda3\\lib\\site-packages (from qiskit-ibm-runtime>=0.29.0->qiskit-serverless) (1.2.0)\n",
      "Requirement already satisfied: urllib3>=1.21.1 in c:\\users\\phala\\anaconda3\\lib\\site-packages (from qiskit-ibm-runtime>=0.29.0->qiskit-serverless) (1.26.20)\n",
      "Requirement already satisfied: websocket-client>=1.5.1 in c:\\users\\phala\\anaconda3\\lib\\site-packages (from qiskit-ibm-runtime>=0.29.0->qiskit-serverless) (1.8.0)\n",
      "Requirement already satisfied: ibm-platform-services>=0.22.6 in c:\\users\\phala\\anaconda3\\lib\\site-packages (from qiskit-ibm-runtime>=0.29.0->qiskit-serverless) (0.48.0)\n",
      "Requirement already satisfied: pydantic>=2.5.0 in c:\\users\\phala\\anaconda3\\lib\\site-packages (from qiskit-ibm-runtime>=0.29.0->qiskit-serverless) (2.9.2)\n",
      "Requirement already satisfied: click>=7.0 in c:\\users\\phala\\anaconda3\\lib\\site-packages (from ray<2.35.0,>=2.30.0->ray[data,default]<2.35.0,>=2.30.0->qiskit-serverless) (8.1.7)\n",
      "Requirement already satisfied: filelock in c:\\users\\phala\\anaconda3\\lib\\site-packages (from ray<2.35.0,>=2.30.0->ray[data,default]<2.35.0,>=2.30.0->qiskit-serverless) (3.13.1)\n",
      "Requirement already satisfied: jsonschema in c:\\users\\phala\\anaconda3\\lib\\site-packages (from ray<2.35.0,>=2.30.0->ray[data,default]<2.35.0,>=2.30.0->qiskit-serverless) (4.19.2)\n",
      "Requirement already satisfied: msgpack<2.0.0,>=1.0.0 in c:\\users\\phala\\anaconda3\\lib\\site-packages (from ray<2.35.0,>=2.30.0->ray[data,default]<2.35.0,>=2.30.0->qiskit-serverless) (1.0.3)\n",
      "Requirement already satisfied: pyyaml in c:\\users\\phala\\anaconda3\\lib\\site-packages (from ray<2.35.0,>=2.30.0->ray[data,default]<2.35.0,>=2.30.0->qiskit-serverless) (6.0.1)\n",
      "Requirement already satisfied: pandas>=1.3 in c:\\users\\phala\\anaconda3\\lib\\site-packages (from ray[data,default]<2.35.0,>=2.30.0->qiskit-serverless) (2.1.4)\n",
      "Requirement already satisfied: pyarrow>=6.0.1 in c:\\users\\phala\\anaconda3\\lib\\site-packages (from ray[data,default]<2.35.0,>=2.30.0->qiskit-serverless) (14.0.2)\n",
      "Requirement already satisfied: fsspec in c:\\users\\phala\\anaconda3\\lib\\site-packages (from ray[data,default]<2.35.0,>=2.30.0->qiskit-serverless) (2023.10.0)\n",
      "Requirement already satisfied: aiohttp-cors in c:\\users\\phala\\anaconda3\\lib\\site-packages (from ray[data,default]<2.35.0,>=2.30.0->qiskit-serverless) (0.7.0)\n",
      "Requirement already satisfied: colorful in c:\\users\\phala\\anaconda3\\lib\\site-packages (from ray[data,default]<2.35.0,>=2.30.0->qiskit-serverless) (0.5.6)\n",
      "Requirement already satisfied: py-spy>=0.2.0 in c:\\users\\phala\\anaconda3\\lib\\site-packages (from ray[data,default]<2.35.0,>=2.30.0->qiskit-serverless) (0.4.0)\n",
      "Requirement already satisfied: opencensus in c:\\users\\phala\\anaconda3\\lib\\site-packages (from ray[data,default]<2.35.0,>=2.30.0->qiskit-serverless) (0.11.4)\n",
      "Requirement already satisfied: prometheus-client>=0.7.1 in c:\\users\\phala\\anaconda3\\lib\\site-packages (from ray[data,default]<2.35.0,>=2.30.0->qiskit-serverless) (0.14.1)\n",
      "Requirement already satisfied: smart-open in c:\\users\\phala\\anaconda3\\lib\\site-packages (from ray[data,default]<2.35.0,>=2.30.0->qiskit-serverless) (5.2.1)\n",
      "Requirement already satisfied: virtualenv!=20.21.1,>=20.0.24 in c:\\users\\phala\\anaconda3\\lib\\site-packages (from ray[data,default]<2.35.0,>=2.30.0->qiskit-serverless) (20.27.1)\n",
      "Requirement already satisfied: charset-normalizer<4,>=2 in c:\\users\\phala\\anaconda3\\lib\\site-packages (from requests<3,>=2.32.2->qiskit-serverless) (2.0.4)\n",
      "Requirement already satisfied: idna<4,>=2.5 in c:\\users\\phala\\anaconda3\\lib\\site-packages (from requests<3,>=2.32.2->qiskit-serverless) (3.4)\n",
      "Requirement already satisfied: certifi>=2017.4.17 in c:\\users\\phala\\anaconda3\\lib\\site-packages (from requests<3,>=2.32.2->qiskit-serverless) (2024.6.2)\n",
      "Requirement already satisfied: aiobotocore~=2.7.0 in c:\\users\\phala\\anaconda3\\lib\\site-packages (from s3fs>=2023.6.0->qiskit-serverless) (2.7.0)\n",
      "Requirement already satisfied: botocore<1.31.65,>=1.31.16 in c:\\users\\phala\\anaconda3\\lib\\site-packages (from aiobotocore~=2.7.0->s3fs>=2023.6.0->qiskit-serverless) (1.31.64)\n",
      "Requirement already satisfied: aioitertools<1.0.0,>=0.5.1 in c:\\users\\phala\\anaconda3\\lib\\site-packages (from aiobotocore~=2.7.0->s3fs>=2023.6.0->qiskit-serverless) (0.7.1)\n",
      "Requirement already satisfied: ibm-cloud-sdk-core<4.0.0,>=3.17.0 in c:\\users\\phala\\anaconda3\\lib\\site-packages (from ibm-platform-services>=0.22.6->qiskit-ibm-runtime>=0.29.0->qiskit-serverless) (3.18.0)\n",
      "Requirement already satisfied: parso<0.9.0,>=0.8.0 in c:\\users\\phala\\anaconda3\\lib\\site-packages (from jedi>=0.16->ipython<9,>=8.10.0->qiskit-serverless) (0.8.3)\n",
      "Requirement already satisfied: pytz>=2020.1 in c:\\users\\phala\\anaconda3\\lib\\site-packages (from pandas>=1.3->ray[data,default]<2.35.0,>=2.30.0->qiskit-serverless) (2023.3.post1)\n",
      "Requirement already satisfied: tzdata>=2022.1 in c:\\users\\phala\\anaconda3\\lib\\site-packages (from pandas>=1.3->ray[data,default]<2.35.0,>=2.30.0->qiskit-serverless) (2023.3)\n",
      "Requirement already satisfied: wcwidth in c:\\users\\phala\\anaconda3\\lib\\site-packages (from prompt-toolkit<3.1.0,>=3.0.41->ipython<9,>=8.10.0->qiskit-serverless) (0.2.5)\n",
      "Requirement already satisfied: annotated-types>=0.6.0 in c:\\users\\phala\\anaconda3\\lib\\site-packages (from pydantic>=2.5.0->qiskit-ibm-runtime>=0.29.0->qiskit-serverless) (0.7.0)\n",
      "Requirement already satisfied: pydantic-core==2.23.4 in c:\\users\\phala\\anaconda3\\lib\\site-packages (from pydantic>=2.5.0->qiskit-ibm-runtime>=0.29.0->qiskit-serverless) (2.23.4)\n",
      "Requirement already satisfied: six>=1.5 in c:\\users\\phala\\anaconda3\\lib\\site-packages (from python-dateutil>=2.8.0->qiskit>=1.0.2->qiskit-serverless) (1.16.0)\n",
      "Requirement already satisfied: cryptography>=1.3 in c:\\users\\phala\\anaconda3\\lib\\site-packages (from requests-ntlm>=1.1.0->qiskit-ibm-runtime>=0.29.0->qiskit-serverless) (42.0.2)\n",
      "Requirement already satisfied: pyspnego>=0.1.6 in c:\\users\\phala\\anaconda3\\lib\\site-packages (from requests-ntlm>=1.1.0->qiskit-ibm-runtime>=0.29.0->qiskit-serverless) (0.10.2)\n",
      "Requirement already satisfied: pbr!=2.1.0,>=2.0.0 in c:\\users\\phala\\anaconda3\\lib\\site-packages (from stevedore>=3.0.0->qiskit>=1.0.2->qiskit-serverless) (6.0.0)\n",
      "Requirement already satisfied: mpmath>=0.19 in c:\\users\\phala\\anaconda3\\lib\\site-packages (from sympy>=1.3->qiskit>=1.0.2->qiskit-serverless) (1.3.0)\n",
      "Requirement already satisfied: distlib<1,>=0.3.7 in c:\\users\\phala\\anaconda3\\lib\\site-packages (from virtualenv!=20.21.1,>=20.0.24->ray[data,default]<2.35.0,>=2.30.0->qiskit-serverless) (0.3.9)\n",
      "Requirement already satisfied: platformdirs<5,>=3.9.1 in c:\\users\\phala\\anaconda3\\lib\\site-packages (from virtualenv!=20.21.1,>=20.0.24->ray[data,default]<2.35.0,>=2.30.0->qiskit-serverless) (3.10.0)\n",
      "Requirement already satisfied: propcache>=0.2.0 in c:\\users\\phala\\anaconda3\\lib\\site-packages (from yarl<2.0,>=1.12.0->aiohttp<4,>=3.10.0->qiskit-serverless) (0.2.0)\n",
      "Requirement already satisfied: jsonschema-specifications>=2023.03.6 in c:\\users\\phala\\anaconda3\\lib\\site-packages (from jsonschema->ray<2.35.0,>=2.30.0->ray[data,default]<2.35.0,>=2.30.0->qiskit-serverless) (2023.7.1)\n",
      "Requirement already satisfied: referencing>=0.28.4 in c:\\users\\phala\\anaconda3\\lib\\site-packages (from jsonschema->ray<2.35.0,>=2.30.0->ray[data,default]<2.35.0,>=2.30.0->qiskit-serverless) (0.30.2)\n",
      "Requirement already satisfied: rpds-py>=0.7.1 in c:\\users\\phala\\anaconda3\\lib\\site-packages (from jsonschema->ray<2.35.0,>=2.30.0->ray[data,default]<2.35.0,>=2.30.0->qiskit-serverless) (0.10.6)\n",
      "Requirement already satisfied: opencensus-context>=0.1.3 in c:\\users\\phala\\anaconda3\\lib\\site-packages (from opencensus->ray[data,default]<2.35.0,>=2.30.0->qiskit-serverless) (0.1.3)\n",
      "Requirement already satisfied: google-api-core<3.0.0,>=1.0.0 in c:\\users\\phala\\anaconda3\\lib\\site-packages (from opencensus->ray[data,default]<2.35.0,>=2.30.0->qiskit-serverless) (2.23.0)\n",
      "Requirement already satisfied: executing in c:\\users\\phala\\anaconda3\\lib\\site-packages (from stack-data->ipython<9,>=8.10.0->qiskit-serverless) (0.8.3)\n",
      "Requirement already satisfied: asttokens in c:\\users\\phala\\anaconda3\\lib\\site-packages (from stack-data->ipython<9,>=8.10.0->qiskit-serverless) (2.0.5)\n",
      "Requirement already satisfied: pure-eval in c:\\users\\phala\\anaconda3\\lib\\site-packages (from stack-data->ipython<9,>=8.10.0->qiskit-serverless) (0.2.2)\n",
      "Requirement already satisfied: jmespath<2.0.0,>=0.7.1 in c:\\users\\phala\\anaconda3\\lib\\site-packages (from botocore<1.31.65,>=1.31.16->aiobotocore~=2.7.0->s3fs>=2023.6.0->qiskit-serverless) (1.0.1)\n",
      "Requirement already satisfied: cffi>=1.12 in c:\\users\\phala\\anaconda3\\lib\\site-packages (from cryptography>=1.3->requests-ntlm>=1.1.0->qiskit-ibm-runtime>=0.29.0->qiskit-serverless) (1.16.0)\n",
      "Requirement already satisfied: proto-plus<2.0.0dev,>=1.22.3 in c:\\users\\phala\\anaconda3\\lib\\site-packages (from google-api-core<3.0.0,>=1.0.0->opencensus->ray[data,default]<2.35.0,>=2.30.0->qiskit-serverless) (1.24.0)\n",
      "Requirement already satisfied: google-auth<3.0.dev0,>=2.14.1 in c:\\users\\phala\\anaconda3\\lib\\site-packages (from google-api-core<3.0.0,>=1.0.0->opencensus->ray[data,default]<2.35.0,>=2.30.0->qiskit-serverless) (2.30.0)\n",
      "Requirement already satisfied: PyJWT<3.0.0,>=2.8.0 in c:\\users\\phala\\anaconda3\\lib\\site-packages (from ibm-cloud-sdk-core<4.0.0,>=3.17.0->ibm-platform-services>=0.22.6->qiskit-ibm-runtime>=0.29.0->qiskit-serverless) (2.8.0)\n",
      "Requirement already satisfied: sspilib>=0.1.0 in c:\\users\\phala\\anaconda3\\lib\\site-packages (from pyspnego>=0.1.6->requests-ntlm>=1.1.0->qiskit-ibm-runtime>=0.29.0->qiskit-serverless) (0.1.0)\n",
      "Requirement already satisfied: pycparser in c:\\users\\phala\\anaconda3\\lib\\site-packages (from cffi>=1.12->cryptography>=1.3->requests-ntlm>=1.1.0->qiskit-ibm-runtime>=0.29.0->qiskit-serverless) (2.21)\n",
      "Requirement already satisfied: cachetools<6.0,>=2.0.0 in c:\\users\\phala\\anaconda3\\lib\\site-packages (from google-auth<3.0.dev0,>=2.14.1->google-api-core<3.0.0,>=1.0.0->opencensus->ray[data,default]<2.35.0,>=2.30.0->qiskit-serverless) (4.2.2)\n",
      "Requirement already satisfied: pyasn1-modules>=0.2.1 in c:\\users\\phala\\anaconda3\\lib\\site-packages (from google-auth<3.0.dev0,>=2.14.1->google-api-core<3.0.0,>=1.0.0->opencensus->ray[data,default]<2.35.0,>=2.30.0->qiskit-serverless) (0.2.8)\n",
      "Requirement already satisfied: rsa<5,>=3.1.4 in c:\\users\\phala\\anaconda3\\lib\\site-packages (from google-auth<3.0.dev0,>=2.14.1->google-api-core<3.0.0,>=1.0.0->opencensus->ray[data,default]<2.35.0,>=2.30.0->qiskit-serverless) (4.9)\n",
      "Requirement already satisfied: pyasn1<0.5.0,>=0.4.6 in c:\\users\\phala\\anaconda3\\lib\\site-packages (from pyasn1-modules>=0.2.1->google-auth<3.0.dev0,>=2.14.1->google-api-core<3.0.0,>=1.0.0->opencensus->ray[data,default]<2.35.0,>=2.30.0->qiskit-serverless) (0.4.8)\n",
      "Note: you may need to restart the kernel to use updated packages.\n"
     ]
    }
   ],
   "source": [
    "%pip install qiskit-serverless -U"
   ]
  },
  {
   "cell_type": "code",
   "execution_count": null,
   "metadata": {},
   "outputs": [
    {
     "name": "stdout",
     "output_type": "stream",
     "text": [
      "None\n"
     ]
    }
   ],
   "source": [
    "# Import necessary libraries\n",
    "from qiskit_ibm_runtime import QiskitRuntimeService\n",
    "from qiskit_ibm_catalog import QiskitServerless, QiskitFunction\n",
    "from qiskit_serverless import ServerlessClient\n",
    "\n",
    "USE_RUNTIME_SERVICE = False\n",
    "\n",
    "service = None\n",
    "if USE_RUNTIME_SERVICE:\n",
    "    service = QiskitRuntimeService(\n",
    "        channel='ibm_quantum',\n",
    "        instance='ibm-q/open/main',\n",
    "        token='02ca823712f3a731ef51db73c66203d45b20ac8a10e0ffac63391a4bc6dbab7e448afe53a45aa49e6cee9296404d043e41aa644a692232c20dba2c535ba4ed64',\n",
    "        verify=False\n",
    "    )\n",
    "print(service) \n"
   ]
  },
  {
   "cell_type": "markdown",
   "metadata": {},
   "source": [
    "### Authentication Approach 1- using Serverless Client (reference: https://qiskit.github.io/qiskit-serverless/examples/01_vqe.html)"
   ]
  },
  {
   "cell_type": "code",
   "execution_count": 48,
   "metadata": {},
   "outputs": [
    {
     "ename": "QiskitServerlessException",
     "evalue": "Cannot verify token.",
     "output_type": "error",
     "traceback": [
      "\u001b[1;31m---------------------------------------------------------------------------\u001b[0m",
      "\u001b[1;31mQiskitServerlessException\u001b[0m                 Traceback (most recent call last)",
      "File \u001b[1;32mc:\\Users\\phala\\anaconda3\\Lib\\site-packages\\qiskit_serverless\\core\\clients\\serverless_client.py:134\u001b[0m, in \u001b[0;36mServerlessClient._verify_token\u001b[1;34m(self, token)\u001b[0m\n\u001b[0;32m    133\u001b[0m \u001b[38;5;28;01mtry\u001b[39;00m:\n\u001b[1;32m--> 134\u001b[0m     safe_json_request(\n\u001b[0;32m    135\u001b[0m         request\u001b[38;5;241m=\u001b[39m\u001b[38;5;28;01mlambda\u001b[39;00m: requests\u001b[38;5;241m.\u001b[39mget(\n\u001b[0;32m    136\u001b[0m             url\u001b[38;5;241m=\u001b[39m\u001b[38;5;124mf\u001b[39m\u001b[38;5;124m\"\u001b[39m\u001b[38;5;132;01m{\u001b[39;00m\u001b[38;5;28mself\u001b[39m\u001b[38;5;241m.\u001b[39mhost\u001b[38;5;132;01m}\u001b[39;00m\u001b[38;5;124m/api/v1/programs/\u001b[39m\u001b[38;5;124m\"\u001b[39m,\n\u001b[0;32m    137\u001b[0m             headers\u001b[38;5;241m=\u001b[39m{\u001b[38;5;124m\"\u001b[39m\u001b[38;5;124mAuthorization\u001b[39m\u001b[38;5;124m\"\u001b[39m: \u001b[38;5;124mf\u001b[39m\u001b[38;5;124m\"\u001b[39m\u001b[38;5;124mBearer \u001b[39m\u001b[38;5;132;01m{\u001b[39;00mtoken\u001b[38;5;132;01m}\u001b[39;00m\u001b[38;5;124m\"\u001b[39m},\n\u001b[0;32m    138\u001b[0m             timeout\u001b[38;5;241m=\u001b[39mREQUESTS_TIMEOUT,\n\u001b[0;32m    139\u001b[0m         ),\n\u001b[0;32m    140\u001b[0m         verbose\u001b[38;5;241m=\u001b[39m\u001b[38;5;28mself\u001b[39m\u001b[38;5;241m.\u001b[39mverbose,\n\u001b[0;32m    141\u001b[0m     )\n\u001b[0;32m    142\u001b[0m \u001b[38;5;28;01mexcept\u001b[39;00m QiskitServerlessException \u001b[38;5;28;01mas\u001b[39;00m reason:\n",
      "File \u001b[1;32mc:\\Users\\phala\\anaconda3\\Lib\\site-packages\\qiskit_serverless\\utils\\json.py:143\u001b[0m, in \u001b[0;36msafe_json_request\u001b[1;34m(request, verbose)\u001b[0m\n\u001b[0;32m    142\u001b[0m \u001b[38;5;28;01mif\u001b[39;00m error_message:\n\u001b[1;32m--> 143\u001b[0m     \u001b[38;5;28;01mraise\u001b[39;00m QiskitServerlessException(error_message)\n\u001b[0;32m    145\u001b[0m \u001b[38;5;28;01mif\u001b[39;00m response \u001b[38;5;129;01mis\u001b[39;00m \u001b[38;5;129;01mnot\u001b[39;00m \u001b[38;5;28;01mNone\u001b[39;00m \u001b[38;5;129;01mand\u001b[39;00m \u001b[38;5;129;01mnot\u001b[39;00m response\u001b[38;5;241m.\u001b[39mok:\n",
      "\u001b[1;31mQiskitServerlessException\u001b[0m: \n| Message: Connection error. Make sure configuration (host and auth details) is correct.\n| Code: AUTH1001",
      "\nThe above exception was the direct cause of the following exception:\n",
      "\u001b[1;31mQiskitServerlessException\u001b[0m                 Traceback (most recent call last)",
      "Cell \u001b[1;32mIn[48], line 2\u001b[0m\n\u001b[0;32m      1\u001b[0m \u001b[38;5;28;01mimport\u001b[39;00m \u001b[38;5;21;01mos\u001b[39;00m\n\u001b[1;32m----> 2\u001b[0m serverless\u001b[38;5;241m=\u001b[39mServerlessClient(token\u001b[38;5;241m=\u001b[39mos\u001b[38;5;241m.\u001b[39menviron\u001b[38;5;241m.\u001b[39mget(\u001b[38;5;124m\"\u001b[39m\u001b[38;5;124mGATEWAY_TOKEN\u001b[39m\u001b[38;5;124m\"\u001b[39m, \u001b[38;5;124m\"\u001b[39m\u001b[38;5;124mawesome_token\u001b[39m\u001b[38;5;124m\"\u001b[39m),\n\u001b[0;32m      3\u001b[0m     host\u001b[38;5;241m=\u001b[39mos\u001b[38;5;241m.\u001b[39menviron\u001b[38;5;241m.\u001b[39mget(\u001b[38;5;124m\"\u001b[39m\u001b[38;5;124mGATEWAY_HOST\u001b[39m\u001b[38;5;124m\"\u001b[39m, \u001b[38;5;124m\"\u001b[39m\u001b[38;5;124mhttp://localhost:8000\u001b[39m\u001b[38;5;124m\"\u001b[39m),)\n\u001b[0;32m      4\u001b[0m serverless\n",
      "File \u001b[1;32mc:\\Users\\phala\\anaconda3\\Lib\\site-packages\\qiskit_serverless\\core\\clients\\serverless_client.py:123\u001b[0m, in \u001b[0;36mServerlessClient.__init__\u001b[1;34m(self, name, host, version, token, verbose)\u001b[0m\n\u001b[0;32m    121\u001b[0m \u001b[38;5;28mself\u001b[39m\u001b[38;5;241m.\u001b[39mverbose \u001b[38;5;241m=\u001b[39m verbose\n\u001b[0;32m    122\u001b[0m \u001b[38;5;28mself\u001b[39m\u001b[38;5;241m.\u001b[39mversion \u001b[38;5;241m=\u001b[39m version\n\u001b[1;32m--> 123\u001b[0m \u001b[38;5;28mself\u001b[39m\u001b[38;5;241m.\u001b[39m_verify_token(token)\n\u001b[0;32m    125\u001b[0m \u001b[38;5;28mself\u001b[39m\u001b[38;5;241m.\u001b[39m_files_client \u001b[38;5;241m=\u001b[39m GatewayFilesClient(\u001b[38;5;28mself\u001b[39m\u001b[38;5;241m.\u001b[39mhost, \u001b[38;5;28mself\u001b[39m\u001b[38;5;241m.\u001b[39mtoken, \u001b[38;5;28mself\u001b[39m\u001b[38;5;241m.\u001b[39mversion)\n",
      "File \u001b[1;32mc:\\Users\\phala\\anaconda3\\Lib\\site-packages\\qiskit_serverless\\core\\clients\\serverless_client.py:143\u001b[0m, in \u001b[0;36mServerlessClient._verify_token\u001b[1;34m(self, token)\u001b[0m\n\u001b[0;32m    134\u001b[0m     safe_json_request(\n\u001b[0;32m    135\u001b[0m         request\u001b[38;5;241m=\u001b[39m\u001b[38;5;28;01mlambda\u001b[39;00m: requests\u001b[38;5;241m.\u001b[39mget(\n\u001b[0;32m    136\u001b[0m             url\u001b[38;5;241m=\u001b[39m\u001b[38;5;124mf\u001b[39m\u001b[38;5;124m\"\u001b[39m\u001b[38;5;132;01m{\u001b[39;00m\u001b[38;5;28mself\u001b[39m\u001b[38;5;241m.\u001b[39mhost\u001b[38;5;132;01m}\u001b[39;00m\u001b[38;5;124m/api/v1/programs/\u001b[39m\u001b[38;5;124m\"\u001b[39m,\n\u001b[1;32m   (...)\u001b[0m\n\u001b[0;32m    140\u001b[0m         verbose\u001b[38;5;241m=\u001b[39m\u001b[38;5;28mself\u001b[39m\u001b[38;5;241m.\u001b[39mverbose,\n\u001b[0;32m    141\u001b[0m     )\n\u001b[0;32m    142\u001b[0m \u001b[38;5;28;01mexcept\u001b[39;00m QiskitServerlessException \u001b[38;5;28;01mas\u001b[39;00m reason:\n\u001b[1;32m--> 143\u001b[0m     \u001b[38;5;28;01mraise\u001b[39;00m QiskitServerlessException(\u001b[38;5;124m\"\u001b[39m\u001b[38;5;124mCannot verify token.\u001b[39m\u001b[38;5;124m\"\u001b[39m) \u001b[38;5;28;01mfrom\u001b[39;00m \u001b[38;5;21;01mreason\u001b[39;00m\n",
      "\u001b[1;31mQiskitServerlessException\u001b[0m: Cannot verify token."
     ]
    }
   ],
   "source": [
    "import os\n",
    "serverless=ServerlessClient(token=os.environ.get(\"GATEWAY_TOKEN\", \"awesome_token\"),\n",
    "    host=os.environ.get(\"GATEWAY_HOST\", \"http://localhost:8000\"),)\n",
    "serverless"
   ]
  },
  {
   "cell_type": "markdown",
   "metadata": {},
   "source": [
    "### Authentication Approach 2: using IBMServerlessClient (reference:https://github.com/qiskit-community/ibm-quantum-challenge-2024/blob/main/solutions/lab_3/lab-3-serverless-solution.ipynb)"
   ]
  },
  {
   "cell_type": "code",
   "execution_count": 38,
   "metadata": {},
   "outputs": [
    {
     "ename": "InvalidAccountError",
     "evalue": "\"Invalid `instance` value. Expected a non-empty string, got 'None'. If using the ibm_quantum channel, please specify the channel when saving your account with `channel = 'ibm_quantum'`.\"",
     "output_type": "error",
     "traceback": [
      "\u001b[1;31m---------------------------------------------------------------------------\u001b[0m",
      "\u001b[1;31mInvalidAccountError\u001b[0m                       Traceback (most recent call last)",
      "Cell \u001b[1;32mIn[38], line 1\u001b[0m\n\u001b[1;32m----> 1\u001b[0m IBMServerlessClient\u001b[38;5;241m.\u001b[39msave_account(\u001b[38;5;124m\"\u001b[39m\u001b[38;5;124m02ca823712f3a731ef51db73c66203d45b20ac8a10e0ffac63391a4bc6dbab7e448afe53a45aa49e6cee9296404d043e41aa644a692232c20dba2c535ba4ed64\u001b[39m\u001b[38;5;124m\"\u001b[39m,\u001b[38;5;124m\"\u001b[39m\u001b[38;5;124mphalak2684@gmail.com\u001b[39m\u001b[38;5;124m\"\u001b[39m,\u001b[38;5;28;01mTrue\u001b[39;00m)\n\u001b[0;32m      2\u001b[0m serverless\u001b[38;5;241m=\u001b[39mIBMServerlessClient(\u001b[38;5;124m\"\u001b[39m\u001b[38;5;124m02ca823712f3a731ef51db73c66203d45b20ac8a10e0ffac63391a4bc6dbab7e448afe53a45aa49e6cee9296404d043e41aa644a692232c20dba2c535ba4ed64\u001b[39m\u001b[38;5;124m\"\u001b[39m)\n",
      "File \u001b[1;32mc:\\Users\\phala\\anaconda3\\Lib\\site-packages\\qiskit_serverless\\core\\clients\\serverless_client.py:488\u001b[0m, in \u001b[0;36mIBMServerlessClient.save_account\u001b[1;34m(token, name, overwrite)\u001b[0m\n\u001b[0;32m    474\u001b[0m \u001b[38;5;129m@staticmethod\u001b[39m\n\u001b[0;32m    475\u001b[0m \u001b[38;5;28;01mdef\u001b[39;00m \u001b[38;5;21msave_account\u001b[39m(\n\u001b[0;32m    476\u001b[0m     token: Optional[\u001b[38;5;28mstr\u001b[39m] \u001b[38;5;241m=\u001b[39m \u001b[38;5;28;01mNone\u001b[39;00m,\n\u001b[0;32m    477\u001b[0m     name: Optional[\u001b[38;5;28mstr\u001b[39m] \u001b[38;5;241m=\u001b[39m \u001b[38;5;28;01mNone\u001b[39;00m,\n\u001b[0;32m    478\u001b[0m     overwrite: Optional[\u001b[38;5;28mbool\u001b[39m] \u001b[38;5;241m=\u001b[39m \u001b[38;5;28;01mFalse\u001b[39;00m,\n\u001b[0;32m    479\u001b[0m ) \u001b[38;5;241m-\u001b[39m\u001b[38;5;241m>\u001b[39m \u001b[38;5;28;01mNone\u001b[39;00m:\n\u001b[0;32m    480\u001b[0m \u001b[38;5;250m    \u001b[39m\u001b[38;5;124;03m\"\"\"\u001b[39;00m\n\u001b[0;32m    481\u001b[0m \u001b[38;5;124;03m    Save the account to disk for future use.\u001b[39;00m\n\u001b[0;32m    482\u001b[0m \n\u001b[1;32m   (...)\u001b[0m\n\u001b[0;32m    486\u001b[0m \u001b[38;5;124;03m        overwrite: ``True`` if the existing account is to be overwritten\u001b[39;00m\n\u001b[0;32m    487\u001b[0m \u001b[38;5;124;03m    \"\"\"\u001b[39;00m\n\u001b[1;32m--> 488\u001b[0m     QiskitRuntimeService\u001b[38;5;241m.\u001b[39msave_account(token\u001b[38;5;241m=\u001b[39mtoken, name\u001b[38;5;241m=\u001b[39mname, overwrite\u001b[38;5;241m=\u001b[39moverwrite)\n",
      "File \u001b[1;32mc:\\Users\\phala\\anaconda3\\Lib\\site-packages\\qiskit_ibm_runtime\\qiskit_runtime_service.py:670\u001b[0m, in \u001b[0;36mQiskitRuntimeService.save_account\u001b[1;34m(token, url, instance, channel, filename, name, proxies, verify, overwrite, set_as_default, private_endpoint)\u001b[0m\n\u001b[0;32m    633\u001b[0m \u001b[38;5;129m@staticmethod\u001b[39m\n\u001b[0;32m    634\u001b[0m \u001b[38;5;28;01mdef\u001b[39;00m \u001b[38;5;21msave_account\u001b[39m(\n\u001b[0;32m    635\u001b[0m     token: Optional[\u001b[38;5;28mstr\u001b[39m] \u001b[38;5;241m=\u001b[39m \u001b[38;5;28;01mNone\u001b[39;00m,\n\u001b[1;32m   (...)\u001b[0m\n\u001b[0;32m    645\u001b[0m     private_endpoint: Optional[\u001b[38;5;28mbool\u001b[39m] \u001b[38;5;241m=\u001b[39m \u001b[38;5;28;01mFalse\u001b[39;00m,\n\u001b[0;32m    646\u001b[0m ) \u001b[38;5;241m-\u001b[39m\u001b[38;5;241m>\u001b[39m \u001b[38;5;28;01mNone\u001b[39;00m:\n\u001b[0;32m    647\u001b[0m \u001b[38;5;250m    \u001b[39m\u001b[38;5;124;03m\"\"\"Save the account to disk for future use.\u001b[39;00m\n\u001b[0;32m    648\u001b[0m \n\u001b[0;32m    649\u001b[0m \u001b[38;5;124;03m    Args:\u001b[39;00m\n\u001b[1;32m   (...)\u001b[0m\n\u001b[0;32m    667\u001b[0m \u001b[38;5;124;03m        private_endpoint: Connect to private API URL.\u001b[39;00m\n\u001b[0;32m    668\u001b[0m \u001b[38;5;124;03m    \"\"\"\u001b[39;00m\n\u001b[1;32m--> 670\u001b[0m     AccountManager\u001b[38;5;241m.\u001b[39msave(\n\u001b[0;32m    671\u001b[0m         token\u001b[38;5;241m=\u001b[39mtoken,\n\u001b[0;32m    672\u001b[0m         url\u001b[38;5;241m=\u001b[39murl,\n\u001b[0;32m    673\u001b[0m         instance\u001b[38;5;241m=\u001b[39minstance,\n\u001b[0;32m    674\u001b[0m         channel\u001b[38;5;241m=\u001b[39mchannel,\n\u001b[0;32m    675\u001b[0m         filename\u001b[38;5;241m=\u001b[39mfilename,\n\u001b[0;32m    676\u001b[0m         name\u001b[38;5;241m=\u001b[39mname,\n\u001b[0;32m    677\u001b[0m         proxies\u001b[38;5;241m=\u001b[39mProxyConfiguration(\u001b[38;5;241m*\u001b[39m\u001b[38;5;241m*\u001b[39mproxies) \u001b[38;5;28;01mif\u001b[39;00m proxies \u001b[38;5;28;01melse\u001b[39;00m \u001b[38;5;28;01mNone\u001b[39;00m,\n\u001b[0;32m    678\u001b[0m         verify\u001b[38;5;241m=\u001b[39mverify,\n\u001b[0;32m    679\u001b[0m         overwrite\u001b[38;5;241m=\u001b[39moverwrite,\n\u001b[0;32m    680\u001b[0m         set_as_default\u001b[38;5;241m=\u001b[39mset_as_default,\n\u001b[0;32m    681\u001b[0m         private_endpoint\u001b[38;5;241m=\u001b[39mprivate_endpoint,\n\u001b[0;32m    682\u001b[0m     )\n",
      "File \u001b[1;32mc:\\Users\\phala\\anaconda3\\Lib\\site-packages\\qiskit_ibm_runtime\\accounts\\management.py:71\u001b[0m, in \u001b[0;36mAccountManager.save\u001b[1;34m(cls, token, url, instance, channel, filename, name, proxies, verify, overwrite, set_as_default, private_endpoint)\u001b[0m\n\u001b[0;32m     55\u001b[0m filename \u001b[38;5;241m=\u001b[39m os\u001b[38;5;241m.\u001b[39mpath\u001b[38;5;241m.\u001b[39mexpanduser(filename)\n\u001b[0;32m     56\u001b[0m config \u001b[38;5;241m=\u001b[39m Account\u001b[38;5;241m.\u001b[39mcreate_account(\n\u001b[0;32m     57\u001b[0m     channel\u001b[38;5;241m=\u001b[39mchannel,\n\u001b[0;32m     58\u001b[0m     token\u001b[38;5;241m=\u001b[39mtoken,\n\u001b[1;32m   (...)\u001b[0m\n\u001b[0;32m     63\u001b[0m     private_endpoint\u001b[38;5;241m=\u001b[39mprivate_endpoint,\n\u001b[0;32m     64\u001b[0m )\n\u001b[0;32m     65\u001b[0m \u001b[38;5;28;01mreturn\u001b[39;00m save_config(\n\u001b[0;32m     66\u001b[0m     filename\u001b[38;5;241m=\u001b[39mfilename,\n\u001b[0;32m     67\u001b[0m     name\u001b[38;5;241m=\u001b[39mname,\n\u001b[0;32m     68\u001b[0m     overwrite\u001b[38;5;241m=\u001b[39moverwrite,\n\u001b[0;32m     69\u001b[0m     config\u001b[38;5;241m=\u001b[39mconfig\n\u001b[0;32m     70\u001b[0m     \u001b[38;5;66;03m# avoid storing invalid accounts\u001b[39;00m\n\u001b[1;32m---> 71\u001b[0m     \u001b[38;5;241m.\u001b[39mvalidate()\u001b[38;5;241m.\u001b[39mto_saved_format(),\n\u001b[0;32m     72\u001b[0m     set_as_default\u001b[38;5;241m=\u001b[39mset_as_default,\n\u001b[0;32m     73\u001b[0m )\n",
      "File \u001b[1;32mc:\\Users\\phala\\anaconda3\\Lib\\site-packages\\qiskit_ibm_runtime\\accounts\\account.py:160\u001b[0m, in \u001b[0;36mAccount.validate\u001b[1;34m(self)\u001b[0m\n\u001b[0;32m    158\u001b[0m \u001b[38;5;28mself\u001b[39m\u001b[38;5;241m.\u001b[39m_assert_valid_token(\u001b[38;5;28mself\u001b[39m\u001b[38;5;241m.\u001b[39mtoken)\n\u001b[0;32m    159\u001b[0m \u001b[38;5;28mself\u001b[39m\u001b[38;5;241m.\u001b[39m_assert_valid_url(\u001b[38;5;28mself\u001b[39m\u001b[38;5;241m.\u001b[39murl)\n\u001b[1;32m--> 160\u001b[0m \u001b[38;5;28mself\u001b[39m\u001b[38;5;241m.\u001b[39m_assert_valid_instance(\u001b[38;5;28mself\u001b[39m\u001b[38;5;241m.\u001b[39minstance)\n\u001b[0;32m    161\u001b[0m \u001b[38;5;28mself\u001b[39m\u001b[38;5;241m.\u001b[39m_assert_valid_proxies(\u001b[38;5;28mself\u001b[39m\u001b[38;5;241m.\u001b[39mproxies)\n\u001b[0;32m    162\u001b[0m \u001b[38;5;28;01mreturn\u001b[39;00m \u001b[38;5;28mself\u001b[39m\n",
      "File \u001b[1;32mc:\\Users\\phala\\anaconda3\\Lib\\site-packages\\qiskit_ibm_runtime\\accounts\\account.py:310\u001b[0m, in \u001b[0;36mCloudAccount._assert_valid_instance\u001b[1;34m(instance)\u001b[0m\n\u001b[0;32m    308\u001b[0m \u001b[38;5;250m\u001b[39m\u001b[38;5;124;03m\"\"\"Assert that the instance name is valid for the given account type.\"\"\"\u001b[39;00m\n\u001b[0;32m    309\u001b[0m \u001b[38;5;28;01mif\u001b[39;00m \u001b[38;5;129;01mnot\u001b[39;00m (\u001b[38;5;28misinstance\u001b[39m(instance, \u001b[38;5;28mstr\u001b[39m) \u001b[38;5;129;01mand\u001b[39;00m \u001b[38;5;28mlen\u001b[39m(instance) \u001b[38;5;241m>\u001b[39m \u001b[38;5;241m0\u001b[39m):\n\u001b[1;32m--> 310\u001b[0m     \u001b[38;5;28;01mraise\u001b[39;00m InvalidAccountError(\n\u001b[0;32m    311\u001b[0m         \u001b[38;5;124mf\u001b[39m\u001b[38;5;124m\"\u001b[39m\u001b[38;5;124mInvalid `instance` value. Expected a non-empty string, got \u001b[39m\u001b[38;5;124m'\u001b[39m\u001b[38;5;132;01m{\u001b[39;00minstance\u001b[38;5;132;01m}\u001b[39;00m\u001b[38;5;124m'\u001b[39m\u001b[38;5;124m. \u001b[39m\u001b[38;5;124m\"\u001b[39m\n\u001b[0;32m    312\u001b[0m         \u001b[38;5;124m\"\u001b[39m\u001b[38;5;124mIf using the ibm_quantum channel,\u001b[39m\u001b[38;5;124m\"\u001b[39m,\n\u001b[0;32m    313\u001b[0m         \u001b[38;5;124m\"\u001b[39m\u001b[38;5;124mplease specify the channel when saving your account with `channel = \u001b[39m\u001b[38;5;124m'\u001b[39m\u001b[38;5;124mibm_quantum\u001b[39m\u001b[38;5;124m'\u001b[39m\u001b[38;5;124m`.\u001b[39m\u001b[38;5;124m\"\u001b[39m,\n\u001b[0;32m    314\u001b[0m     )\n",
      "\u001b[1;31mInvalidAccountError\u001b[0m: \"Invalid `instance` value. Expected a non-empty string, got 'None'. If using the ibm_quantum channel, please specify the channel when saving your account with `channel = 'ibm_quantum'`.\""
     ]
    }
   ],
   "source": [
    "IBMServerlessClient.save_account(\"02ca823712f3a731ef51db73c66203d45b20ac8a10e0ffac63391a4bc6dbab7e448afe53a45aa49e6cee9296404d043e41aa644a692232c20dba2c535ba4ed64\",\"phalak2684@gmail.com\",True)\n",
    "serverless=IBMServerlessClient(\"02ca823712f3a731ef51db73c66203d45b20ac8a10e0ffac63391a4bc6dbab7e448afe53a45aa49e6cee9296404d043e41aa644a692232c20dba2c535ba4ed64\")"
   ]
  },
  {
   "cell_type": "markdown",
   "metadata": {},
   "source": [
    "## Implementation"
   ]
  },
  {
   "cell_type": "code",
   "execution_count": null,
   "metadata": {},
   "outputs": [],
   "source": [
    "serverless = QiskitServerless()\n",
    "\n",
    "# Define the function for uploading\n",
    "transpile_remote_demo = QiskitFunction(\n",
    "    title=\"transpile_remote_serverless\",\n",
    "    entrypoint=\"transpile_remote.py\",\n",
    "    working_dir=\"./source_files/\"\n",
    ")\n",
    "\n",
    "# Upload the program\n",
    "serverless.upload(transpile_remote_demo)\n",
    "\n",
    "# Check if it was uploaded successfully\n",
    "print(serverless.list())"
   ]
  },
  {
   "cell_type": "code",
   "execution_count": null,
   "metadata": {},
   "outputs": [],
   "source": [
    "depths = [5, 10, 15]  \n",
    "optimization_levels = [0, 1, 2, 3]  \n",
    "\n",
    "from source_files.generate_random import generate_random_circuits\n",
    "circuits = generate_random_circuits(depths)\n",
    "\n",
    "depth_results = {level: [] for level in optimization_levels}\n",
    "for opt_level in optimization_levels:\n",
    "    job = serverless.run(\n",
    "        \"transpile_remote_serverless\",\n",
    "        inputs={\"circuits\": circuits, \"backend_name\": \"ibmq_qasm_simulator\", \"optimization_level\": opt_level}\n",
    "    )\n",
    "\n",
    "    result = job.result()\n",
    "    for circuit_data in result['transpiled_circuits']:\n",
    "        transpiled_circuit, reduced_depth = circuit_data\n",
    "        depth_results[opt_level].append(reduced_depth)"
   ]
  },
  {
   "cell_type": "code",
   "execution_count": null,
   "metadata": {},
   "outputs": [],
   "source": [
    "for level in optimization_levels:\n",
    "    print(f\"Optimization Level {level}: Reduced Depths: {depth_results[level]}\")\n",
    "\n",
    "min_depths = [min(depth_results[level]) for level in optimization_levels]\n",
    "for i in range(1, len(min_depths)):\n",
    "    if min_depths[i] >= min_depths[i - 1]:\n",
    "        print(f\"Minimum optimization level after which no further optimizations occur: {optimization_levels[i-1]}\")\n",
    "        break\n",
    "else:\n",
    "    print(\"All optimization levels provided further reductions.\")"
   ]
  },
  {
   "cell_type": "markdown",
   "metadata": {},
   "source": [
    "## Final observations:\n",
    "- This task made me explore QiskitServerless and its importance in more detail.\n",
    "- I learned more about time complexity which increases (or remains the same) with increase in optimization levels. \n",
    "- The goal of this task was to find the minimum optimization level after which the depth of the circuit isn't reduced further."
   ]
  },
  {
   "cell_type": "markdown",
   "metadata": {},
   "source": []
  }
 ],
 "metadata": {
  "kernelspec": {
   "display_name": "base",
   "language": "python",
   "name": "python3"
  },
  "language_info": {
   "codemirror_mode": {
    "name": "ipython",
    "version": 3
   },
   "file_extension": ".py",
   "mimetype": "text/x-python",
   "name": "python",
   "nbconvert_exporter": "python",
   "pygments_lexer": "ipython3",
   "version": "3.11.7"
  }
 },
 "nbformat": 4,
 "nbformat_minor": 2
}
